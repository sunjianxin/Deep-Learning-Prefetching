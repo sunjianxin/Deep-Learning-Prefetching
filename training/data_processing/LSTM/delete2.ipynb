{
 "cells": [
  {
   "cell_type": "code",
   "execution_count": null,
   "metadata": {},
   "outputs": [],
   "source": [
    "# scale back to original dimension\n",
    "min_max_unscaling(test_set_x_5, min_x_5, max_x_5)\n",
    "min_max_unscaling(test_set_y_5, min_y_5, max_y_5)\n",
    "min_max_unscaling(test_set_z_5, min_z_5, max_z_5)\n",
    "pred_set_x_5 = list(pred[:,0])\n",
    "pred_set_y_5 = list(pred[:,1])\n",
    "pred_set_z_5 = list(pred[:,2])\n",
    "min_max_unscaling(pred_set_x_5, min_x_5, max_x_5)\n",
    "min_max_unscaling(pred_set_y_5, min_y_5, max_y_5)\n",
    "min_max_unscaling(pred_set_z_5, min_z_5, max_z_5)\n",
    "# plot to verify\n",
    "from mpl_toolkits import mplot3d\n",
    "fig = plt.figure()\n",
    "ax = plt.axes(projection='3d')\n",
    "ax.plot3D(test_set_x_5, test_set_y_5, test_set_z_5, 'gray')\n",
    "ax.plot3D(pred_set_x_5, pred_set_y_5, pred_set_z_5, 'red')\n",
    "# save to file\n",
    "file = open('js_predict/predict_test5.txt', 'w')\n",
    "for i in range(len(pred_set_x_5)):\n",
    "    if (i != len(pred_set_x_5) - 1):\n",
    "        file.write(str(pred_set_x_5[i]) + \" \")\n",
    "    else:\n",
    "        file.write(str(pred_set_x_5[i]) + \"\\n\")\n",
    "for i in range(len(pred_set_y_5)):\n",
    "    if (i != len(pred_set_y_5) - 1):\n",
    "        file.write(str(pred_set_y_5[i]) + \" \")\n",
    "    else:\n",
    "        file.write(str(pred_set_y_5[i]) + \"\\n\")\n",
    "for i in range(len(pred_set_z_5)):\n",
    "    if (i != len(pred_set_z_5) - 1):\n",
    "        file.write(str(pred_set_z_5[i]) + \" \")\n",
    "    else:\n",
    "        file.write(str(pred_set_z_5[i]) + \"\\n\")\n",
    "file.close()"
   ]
  }
 ],
 "metadata": {
  "kernelspec": {
   "display_name": "Python 3",
   "language": "python",
   "name": "python3"
  },
  "language_info": {
   "codemirror_mode": {
    "name": "ipython",
    "version": 3
   },
   "file_extension": ".py",
   "mimetype": "text/x-python",
   "name": "python",
   "nbconvert_exporter": "python",
   "pygments_lexer": "ipython3",
   "version": "3.7.3"
  }
 },
 "nbformat": 4,
 "nbformat_minor": 4
}
