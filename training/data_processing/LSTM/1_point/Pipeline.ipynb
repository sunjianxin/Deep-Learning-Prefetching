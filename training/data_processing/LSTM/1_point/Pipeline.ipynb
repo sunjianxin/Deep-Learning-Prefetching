{
 "cells": [
  {
   "cell_type": "markdown",
   "metadata": {},
   "source": [
    "# Processing Pipe Line"
   ]
  },
  {
   "cell_type": "markdown",
   "metadata": {},
   "source": [
    "## 1) training with different window size with early stop and save its models and learning curves\n",
    "V2_training-final-with-early-stop-without-normalization"
   ]
  },
  {
   "cell_type": "markdown",
   "metadata": {},
   "source": [
    "## 2) Visualiy analysis all learning curves for different dataset\n",
    "V2_plot_learning_curve"
   ]
  },
  {
   "cell_type": "markdown",
   "metadata": {},
   "source": [
    "## 3) Find the optimal window size for the training model\n",
    "V2_inference-early-stop"
   ]
  },
  {
   "cell_type": "markdown",
   "metadata": {},
   "source": [
    "## 4) Generate the prediction for test 1 ~ 5 by inferencing the optimal model\n",
    "V2_inference-on-all-test-dataset\n",
    "### predict_testX.dat save in js_predict folder"
   ]
  },
  {
   "cell_type": "markdown",
   "metadata": {},
   "source": [
    "## 5) Translate .dat file to .txt and .csv file\n",
    "go to js_predict folder and run\n",
    "dat2.csv.sh and txt2dat.sh"
   ]
  },
  {
   "cell_type": "code",
   "execution_count": null,
   "metadata": {},
   "outputs": [],
   "source": []
  }
 ],
 "metadata": {
  "kernelspec": {
   "display_name": "Python 3",
   "language": "python",
   "name": "python3"
  },
  "language_info": {
   "codemirror_mode": {
    "name": "ipython",
    "version": 3
   },
   "file_extension": ".py",
   "mimetype": "text/x-python",
   "name": "python",
   "nbconvert_exporter": "python",
   "pygments_lexer": "ipython3",
   "version": "3.7.3"
  }
 },
 "nbformat": 4,
 "nbformat_minor": 4
}
