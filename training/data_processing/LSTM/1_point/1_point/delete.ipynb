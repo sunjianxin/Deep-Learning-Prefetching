{
 "cells": [
  {
   "cell_type": "code",
   "execution_count": null,
   "metadata": {},
   "outputs": [],
   "source": [
    "# scale back to original dimension\n",
    "min_max_unscaling(test_set_x_2, min_x_2, max_x_2)\n",
    "min_max_unscaling(test_set_y_2, min_y_2, max_y_2)\n",
    "min_max_unscaling(test_set_z_2, min_z_2, max_z_2)\n",
    "pred_set_x_2 = list(pred[:,0])\n",
    "pred_set_y_2 = list(pred[:,1])\n",
    "pred_set_z_2 = list(pred[:,2])\n",
    "min_max_unscaling(pred_set_x_2, min_x_2, max_x_2)\n",
    "min_max_unscaling(pred_set_y_2, min_y_2, max_y_2)\n",
    "min_max_unscaling(pred_set_z_2, min_z_2, max_z_2)\n",
    "# plot to verify\n",
    "from mpl_toolkits import mplot3d\n",
    "fig = plt.figure()\n",
    "ax = plt.axes(projection='3d')\n",
    "ax.plot3D(test_set_x_2, test_set_y_2, test_set_z_2, 'gray')\n",
    "ax.plot3D(pred_set_x_2, pred_set_y_2, pred_set_z_2, 'red')\n",
    "# save to file\n",
    "file = open('js_predict/predict_test2.txt', 'w')\n",
    "for i in range(len(pred_set_x_2)):\n",
    "    if (i != len(pred_set_x_2) - 1):\n",
    "        file.write(str(pred_set_x_2[i]) + \" \")\n",
    "    else:\n",
    "        file.write(str(pred_set_x_2[i]) + \"\\n\")\n",
    "for i in range(len(pred_set_y_2)):\n",
    "    if (i != len(pred_set_y_2) - 1):\n",
    "        file.write(str(pred_set_y_2[i]) + \" \")\n",
    "    else:\n",
    "        file.write(str(pred_set_y_2[i]) + \"\\n\")\n",
    "for i in range(len(pred_set_z_2)):\n",
    "    if (i != len(pred_set_z_2) - 1):\n",
    "        file.write(str(pred_set_z_2[i]) + \" \")\n",
    "    else:\n",
    "        file.write(str(pred_set_z_2[i]) + \"\\n\")\n",
    "file.close()"
   ]
  }
 ],
 "metadata": {
  "kernelspec": {
   "display_name": "Python 3",
   "language": "python",
   "name": "python3"
  },
  "language_info": {
   "codemirror_mode": {
    "name": "ipython",
    "version": 3
   },
   "file_extension": ".py",
   "mimetype": "text/x-python",
   "name": "python",
   "nbconvert_exporter": "python",
   "pygments_lexer": "ipython3",
   "version": "3.7.3"
  }
 },
 "nbformat": 4,
 "nbformat_minor": 4
}
