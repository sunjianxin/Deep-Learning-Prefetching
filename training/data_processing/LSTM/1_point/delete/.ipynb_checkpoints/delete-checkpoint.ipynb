{
 "cells": [
  {
   "cell_type": "code",
   "execution_count": 1,
   "metadata": {},
   "outputs": [],
   "source": [
    "import torch\n",
    "import torch.nn as nn\n",
    "\n",
    "import numpy as np\n",
    "import pandas as pd\n",
    "import math\n",
    "import matplotlib.pyplot as plt\n",
    "from matplotlib import interactive\n",
    "interactive(True)\n",
    "%matplotlib qt\n",
    "\n",
    "\n",
    "import torchvision.datasets as dsets\n",
    "import torchvision.transforms as transforms\n",
    "from torch.utils.data import Dataset, DataLoader\n",
    "from torch.autograd import Variable"
   ]
  },
  {
   "cell_type": "code",
   "execution_count": 6,
   "metadata": {},
   "outputs": [],
   "source": [
    "file1 = open('wj/test1.txt', 'r')\n",
    "Lines = file1.readlines()\n",
    "file1.close()\n",
    "x = Lines[0].split(' ')\n",
    "y = Lines[1].split(' ')\n",
    "z = Lines[2].split(' ')\n",
    "# delete last element which is '\\n'\n",
    "x = x[:-1]\n",
    "y = y[:-1]\n",
    "z = z[:-1]\n",
    "# convert to float\n",
    "x = [float(item) for item in x]\n",
    "y = [float(item) for item in y]\n",
    "z = [float(item) for item in z]"
   ]
  },
  {
   "cell_type": "code",
   "execution_count": 7,
   "metadata": {},
   "outputs": [],
   "source": [
    "file1 = open('wj/predict_test1.txt', 'r')\n",
    "Lines = file1.readlines()\n",
    "file1.close()\n",
    "wj_p_x = Lines[0].split(' ')\n",
    "wj_p_y = Lines[1].split(' ')\n",
    "wj_p_z = Lines[2].split(' ')\n",
    "# delete last element which is '\\n'\n",
    "wj_p_x = wj_p_x[:-1]\n",
    "wj_p_y = wj_p_y[:-1]\n",
    "wj_p_z = wj_p_z[:-1]\n",
    "# convert to float\n",
    "wj_p_x = [float(item) for item in wj_p_x]\n",
    "wj_p_y = [float(item) for item in wj_p_y]\n",
    "wj_p_z = [float(item) for item in wj_p_z]"
   ]
  },
  {
   "cell_type": "code",
   "execution_count": 8,
   "metadata": {},
   "outputs": [],
   "source": [
    "file1 = open('js/predict_test1.txt', 'r')\n",
    "Lines = file1.readlines()\n",
    "file1.close()\n",
    "js_p_x = Lines[0].split(' ')\n",
    "js_p_y = Lines[1].split(' ')\n",
    "js_p_z = Lines[2].split(' ')\n",
    "# delete last element which is '\\n'\n",
    "js_p_x = js_p_x[:-1]\n",
    "js_p_y = js_p_y[:-1]\n",
    "js_p_z = js_p_z[:-1]\n",
    "# convert to float\n",
    "js_p_x = [float(item) for item in js_p_x]\n",
    "js_p_y = [float(item) for item in js_p_y]\n",
    "js_p_z = [float(item) for item in js_p_z]"
   ]
  },
  {
   "cell_type": "code",
   "execution_count": 9,
   "metadata": {},
   "outputs": [
    {
     "data": {
      "text/plain": [
       "[<matplotlib.lines.Line2D at 0x7fc4c8e86d30>]"
      ]
     },
     "execution_count": 9,
     "metadata": {},
     "output_type": "execute_result"
    }
   ],
   "source": [
    "plt.plot(x, color = 'red')\n",
    "plt.plot(wj_p_x, color = 'blue')\n",
    "plt.plot(js_p_x, color = 'green')"
   ]
  },
  {
   "cell_type": "code",
   "execution_count": null,
   "metadata": {},
   "outputs": [],
   "source": [
    "file1 = open('wj/predict_test1.txt', 'r')\n",
    "Lines = file1.readlines()\n",
    "file1.close()\n",
    "wj_x = Lines[0].split(' ')"
   ]
  },
  {
   "cell_type": "code",
   "execution_count": null,
   "metadata": {},
   "outputs": [],
   "source": []
  },
  {
   "cell_type": "code",
   "execution_count": null,
   "metadata": {},
   "outputs": [],
   "source": [
    "len(wj_x)"
   ]
  },
  {
   "cell_type": "code",
   "execution_count": null,
   "metadata": {},
   "outputs": [],
   "source": []
  },
  {
   "cell_type": "code",
   "execution_count": null,
   "metadata": {},
   "outputs": [],
   "source": []
  },
  {
   "cell_type": "code",
   "execution_count": null,
   "metadata": {},
   "outputs": [],
   "source": []
  },
  {
   "cell_type": "code",
   "execution_count": 10,
   "metadata": {},
   "outputs": [],
   "source": [
    "df = pd.read_csv('../../../../../performance_test/delete/test-1.csv')\n",
    "test_1 = np.array(df[['dis','theta', 'phi']])\n",
    "# x = data[:,0].tolist()\n",
    "df = pd.read_csv('../../../../../performance_test/delete/wj-predict-1.csv')\n",
    "wj_predict_1 = np.array(df[['dis','theta', 'phi']])\n",
    "# x = data[:,0].tolist()\n",
    "df = pd.read_csv('../../../../../performance_test/delete/js-predict-1.csv')\n",
    "js_predict_1 = np.array(df[['dis','theta', 'phi']])\n",
    "# x = data[:,0].tolist()"
   ]
  },
  {
   "cell_type": "code",
   "execution_count": 11,
   "metadata": {},
   "outputs": [
    {
     "data": {
      "text/plain": [
       "(400, 3)"
      ]
     },
     "execution_count": 11,
     "metadata": {},
     "output_type": "execute_result"
    }
   ],
   "source": [
    "js_predict_1.shape"
   ]
  },
  {
   "cell_type": "code",
   "execution_count": 13,
   "metadata": {},
   "outputs": [
    {
     "data": {
      "text/plain": [
       "[<matplotlib.lines.Line2D at 0x7fc4c8e55400>]"
      ]
     },
     "execution_count": 13,
     "metadata": {},
     "output_type": "execute_result"
    }
   ],
   "source": [
    "plt.plot(test_1[:,0], color='red')\n",
    "plt.plot(wj_predict_1[:,0], color='blue')\n",
    "plt.plot(js_predict_1[:,0], color='green')"
   ]
  },
  {
   "cell_type": "code",
   "execution_count": null,
   "metadata": {},
   "outputs": [],
   "source": []
  }
 ],
 "metadata": {
  "kernelspec": {
   "display_name": "Python 3",
   "language": "python",
   "name": "python3"
  },
  "language_info": {
   "codemirror_mode": {
    "name": "ipython",
    "version": 3
   },
   "file_extension": ".py",
   "mimetype": "text/x-python",
   "name": "python",
   "nbconvert_exporter": "python",
   "pygments_lexer": "ipython3",
   "version": "3.7.3"
  }
 },
 "nbformat": 4,
 "nbformat_minor": 4
}
