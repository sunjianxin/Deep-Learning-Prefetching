{
 "cells": [
  {
   "cell_type": "code",
   "execution_count": 1,
   "metadata": {},
   "outputs": [],
   "source": [
    "# check the model of using differnet window size, compare their results on valid dataset\n",
    "#    test dataset without any preprocessing, no scaling and no normalization\n",
    "# decide which window size is the optimal"
   ]
  },
  {
   "cell_type": "code",
   "execution_count": 2,
   "metadata": {},
   "outputs": [],
   "source": [
    "import torch\n",
    "import torch.nn as nn\n",
    "import torch.nn.functional as F\n",
    "\n",
    "import numpy as np\n",
    "import pandas as pd\n",
    "import math\n",
    "import matplotlib.pyplot as plt\n",
    "from matplotlib import interactive\n",
    "interactive(True)\n",
    "%matplotlib qt\n",
    "\n",
    "\n",
    "import torchvision.datasets as dsets\n",
    "import torchvision.transforms as transforms\n",
    "# from torch.utils.data import Dataset, DataLoader\n",
    "from torch.utils.data import DataLoader\n",
    "from torch.autograd import Variable\n",
    "\n",
    "import my_model\n",
    "from utilities import MyTrainDataSet, MyTestDataSet, load_data_2, load_test_data, min_max_scaling, normalize_one, construct_train_valid_tensor, construct_test_tensor, show_statistic"
   ]
  },
  {
   "cell_type": "markdown",
   "metadata": {},
   "source": [
    "Plot result"
   ]
  },
  {
   "cell_type": "code",
   "execution_count": 3,
   "metadata": {},
   "outputs": [],
   "source": [
    "def getDistanceThetaPhi(xyz): # N x 3 -> N x 2, xyz_tensor must be two dimension\n",
    "    size = xyz.shape[0]\n",
    "    dtp = np.zeros([size, 3])\n",
    "    for i in range(size):\n",
    "        x = xyz[i, 0]\n",
    "        y = xyz[i, 1]\n",
    "        z = xyz[i, 2]\n",
    "        # print(z)\n",
    "        d = math.sqrt(x*x + y*y + z*z)\n",
    "        theta = math.atan(math.sqrt(x*x + y*y)/z)/math.pi*180\n",
    "        phi = math.atan(y/x)/math.pi*180\n",
    "        \n",
    "        if (d >= 2.0):\n",
    "            d= 2.0;\n",
    "        elif (d <= 1.0):\n",
    "            d= 1.0;\n",
    "        \n",
    "        if (theta < 0):\n",
    "            theta = 180 + theta;\n",
    "        \n",
    "        if (phi > 0):\n",
    "            if (x > 0):\n",
    "                phi = phi;\n",
    "            else:\n",
    "                phi = 180 + phi;\n",
    "        else:\n",
    "            if (x < 0):\n",
    "                phi = 180 + phi;\n",
    "            else:\n",
    "                phi = 360 + phi;\n",
    "        \n",
    "        \n",
    "        dtp[i, 0] = d\n",
    "        dtp[i, 1] = theta\n",
    "        dtp[i, 2] = phi\n",
    "    \n",
    "    return dtp   "
   ]
  },
  {
   "cell_type": "code",
   "execution_count": 4,
   "metadata": {},
   "outputs": [
    {
     "name": "stdout",
     "output_type": "stream",
     "text": [
      "gt_thetaphi_valid_label_tensor shape: torch.Size([397, 2])\n",
      "pd_thetaphi_valid_label_tensor shape: torch.Size([397, 2])\n"
     ]
    }
   ],
   "source": [
    "input_valid_train = np.load(\"input_valid_tensor.npy\")\n",
    "gt_valid_label = np.load(\"gt_valid_label_tensor.npy\")\n",
    "pd_valid_label = np.load(\"pd_valid_label_tensor.npy\")\n",
    "\n",
    "# construct 2d theta phi valid tensor\n",
    "gt_dthetaphi_valid_label = getDistanceThetaPhi(gt_valid_label)\n",
    "pd_dthetaphi_valid_label = getDistanceThetaPhi(pd_valid_label)\n",
    "gt_thetaphi_valid_label_tensor = torch.Tensor(gt_dthetaphi_valid_label[:,1:])\n",
    "pd_thetaphi_valid_label_tensor = torch.Tensor(pd_dthetaphi_valid_label[:,1:])\n",
    "print(\"gt_thetaphi_valid_label_tensor shape:\", gt_thetaphi_valid_label_tensor.shape)\n",
    "print(\"pd_thetaphi_valid_label_tensor shape:\", pd_thetaphi_valid_label_tensor.shape)\n",
    "\n",
    "gt_thetaphi_valid_label_tensor = torch.matmul(gt_thetaphi_valid_label_tensor, torch.Tensor([[1/180, 0],[0, 1/360]]))\n",
    "pd_thetaphi_valid_label_tensor = torch.matmul(pd_thetaphi_valid_label_tensor, torch.Tensor([[1/180, 0],[0, 1/360]]))"
   ]
  },
  {
   "cell_type": "code",
   "execution_count": 10,
   "metadata": {},
   "outputs": [],
   "source": [
    "class MDN(nn.Module):\n",
    "    def __init__(self, n_input, n_hidden, n_gaussians):\n",
    "        super(MDN, self).__init__()\n",
    "        self.l_h = nn.Sequential(\n",
    "            nn.Linear(n_input, n_hidden),\n",
    "            nn.Tanh()\n",
    "        )\n",
    "        self.l_pi = nn.Linear(n_hidden, n_gaussians)\n",
    "        \n",
    "        self.l_mu_theta = nn.Linear(n_hidden, n_gaussians)\n",
    "        self.l_sigma_theta = nn.Linear(n_hidden, n_gaussians)\n",
    "        \n",
    "        self.l_mu_phi = nn.Linear(n_hidden, n_gaussians)\n",
    "        self.l_sigma_phi = nn.Linear(n_hidden, n_gaussians)\n",
    "        \n",
    "        \n",
    "        self.l_correlation_theta_phi = nn.Sequential(\n",
    "            nn.Linear(n_hidden, n_gaussians),\n",
    "            nn.Tanh()\n",
    "        )\n",
    "        \n",
    "    def forward(self, x):\n",
    "        h = self.l_h(x)\n",
    "        # print(\"h\", h.shape)\n",
    "        # print(\"h[0]\", h[0, :])\n",
    "        \n",
    "        pi = F.softmax(self.l_pi(h), -1)\n",
    "        \n",
    "        # print(\"pi\", pi.shape)\n",
    "        # print(\"pi[0]\", pi[0, :])\n",
    "        mu_theta = self.l_mu_theta(h)\n",
    "        # print(\"mu_theta\", pi.shape)\n",
    "        # print(\"mu_theta out\", mu_theta[0])\n",
    "        mu_phi = self.l_mu_phi(h)\n",
    "        # print(\"mu_phi\", pi.shape)\n",
    "        \n",
    "        # use exp to ensure positive range\n",
    "        sigma_theta = torch.exp(self.l_sigma_theta(h))\n",
    "        # print(\"sigma_theta\", sigma_theta.shape)\n",
    "        sigma_phi = torch.exp(self.l_sigma_phi(h))\n",
    "        # print(\"sigma_phi\", sigma_phi.shape)\n",
    "\n",
    "        # use tanh to ensoure range of (-1, 1)\n",
    "        correlation_theta_phi = self.l_correlation_theta_phi(h)\n",
    "        # print(\"correlation_y_z\", pi.shape)\n",
    "        # print(\"correlation_y_z[0]\", correlation_y_z[0, :])\n",
    "        \n",
    "        return pi, mu_theta, mu_phi, sigma_theta, sigma_phi, correlation_theta_phi\n"
   ]
  },
  {
   "cell_type": "code",
   "execution_count": 7,
   "metadata": {},
   "outputs": [],
   "source": [
    "def mdn_loss_fn(y, pi, mu_theta, mu_phi, sigma_theta, sigma_phi, correlation_theta_phi):\n",
    "    size = y.shape[0] # N\n",
    "    n_gaussians = pi.shape[1] # G\n",
    "    '''\n",
    "    print(\"sample size: \", size)\n",
    "    print(\"num of gaus: \", n_gaussians)\n",
    "    print(\"mu_theta size: \", mu_theta.shape)\n",
    "    print(\"mu_phi size: \", mu_phi.shape)\n",
    "    print(\"sigma_theta size: \", sigma_theta.shape)\n",
    "    print(\"sigma_phi size: \", sigma_phi.shape)\n",
    "    print(\"correlation_theta_phi size: \", correlation_theta_phi.shape)\n",
    "    '''\n",
    "    x_theta = y[:, 0].unsqueeze(1) # N x 1\n",
    "    # print(\"x_theta shape: \", x_theta.shape)\n",
    "    x_theta = x_theta.repeat(1, n_gaussians) #  N x G\n",
    "    # print(\"x_theta shape: \", x_theta.shape)\n",
    "    x_phi = y[:, 1].unsqueeze(1)   # N X 1\n",
    "    # print(\"x_phi shape: \", x_phi.shape)\n",
    "    x_phi = x_phi.repeat(1, n_gaussians) #  N x G\n",
    "    # print(\"x_phi shape: \", x_phi.shape)\n",
    "    \n",
    "    \n",
    "    # mu_theta: N x G\n",
    "    # sigma_theta: N x G\n",
    "    # correlation_theta_phi: N x G\n",
    "\n",
    "    z = (x_theta - mu_theta)**2/(sigma_theta**2) + \\\n",
    "        (x_phi - mu_phi)**2/(sigma_phi**2) - \\\n",
    "        2*correlation_theta_phi*(x_theta - mu_theta)*(x_phi - mu_phi)/sigma_theta/sigma_phi\n",
    "    '''\n",
    "    print(\"=======\")\n",
    "    print(\"(x_theta - mu_theta)**2/(sigma_theta**2)\", ((x_theta - mu_theta)**2/(sigma_theta**2))[0])\n",
    "    print(\"x_theta: \", x_theta[0])\n",
    "    print(\"mu_theta: \", mu_theta[0])\n",
    "    print(\"sigma_theta: \", sigma_theta[0])\n",
    "    '''\n",
    "\n",
    "    # print(\"(x_phi - mu_phi)**2/(sigma_phi**2)\", ((x_phi - mu_phi)**2/(sigma_phi**2))[0])\n",
    "    # print(\"2*correlation_theta_phi*(x_theta - mu_theta)*(x_phi - mu_phi)/sigma_theta/sigma_phi\", (2*correlation_theta_phi*(x_theta - mu_theta)*(x_phi - mu_phi)/sigma_theta/sigma_phi)[0])\n",
    "    # print(\"z shape: \", z.shape)\n",
    "    \n",
    "    PI = np.pi\n",
    "    \n",
    "    likelihood = 1/(2*PI*sigma_theta*sigma_phi*torch.sqrt(1 - correlation_theta_phi**2))*\\\n",
    "                 torch.exp(-z/(2*(1-correlation_theta_phi**2))) # N X G\n",
    "    # print(\"likelihood\", likelihood[0:10])\n",
    "    \n",
    "    # print(\"likelihood shape: \", likelihood.shape)\n",
    "    \n",
    "    \n",
    "    # print(\"pi shape: \", pi.shape) # N x 2\n",
    "    loss = torch.sum(likelihood * pi, dim=1) # N X 1\n",
    "    # print(\"loss sum\", loss[0:10])\n",
    "    # print(likelihood.max())\n",
    "    '''\n",
    "    for i in range(loss.shape[0]):\n",
    "        if loss[i] > 1.5:\n",
    "            print(\"loss: \", loss[i])\n",
    "            print(\"likelihood: \", likelihood[i])\n",
    "            print(\"mu array  : \", pi[i])\n",
    "            # print(\"likelihood shape: \", likelihood.shape) # 14985 x 5\n",
    "    '''\n",
    "    loss = -torch.log(loss)\n",
    "    return torch.mean(loss)"
   ]
  },
  {
   "cell_type": "code",
   "execution_count": 11,
   "metadata": {},
   "outputs": [
    {
     "name": "stdout",
     "output_type": "stream",
     "text": [
      "-0.5303942561149597\n",
      "-4.68788480758667\n",
      "-4.8146748542785645\n",
      "-5.0512166023254395\n",
      "-5.462406158447266\n",
      "-4.24208402633667\n",
      "-4.685033321380615\n",
      "-5.128376007080078\n",
      "-4.813603401184082\n",
      "-4.869997501373291\n"
     ]
    }
   ],
   "source": [
    "test_3_loss = []\n",
    "pi_valid_list = []\n",
    "mu_theta_Valid_list = []\n",
    "mu_phi_valid_list = []\n",
    "for i in range(1, 11):\n",
    "    num_gaussians = i\n",
    "    PATH = \"model_v2/with_early_stop_after_400_without_normalization/model_ng_\" + str(i) + \".pt\"\n",
    "\n",
    "    load_model_mdn = MDN(2, n_hidden=20, n_gaussians=num_gaussians)\n",
    "    load_model_mdn.load_state_dict(torch.load(PATH))\n",
    "    load_model_mdn.eval()\n",
    "    # mmodel = torch.load(PATH)\n",
    "    \n",
    "    # Calculating validation data loss\n",
    "    pi_valid, mu_theta_valid, mu_phi_valid, sigma_theta_valid, sigma_phi_valid, correlation_theta_phi_valid = load_model_mdn(pd_thetaphi_valid_label_tensor)\n",
    "    loss_valid = mdn_loss_fn(gt_thetaphi_valid_label_tensor,\n",
    "                             pi_valid, mu_theta_valid,\n",
    "                             mu_phi_valid,\n",
    "                             sigma_theta_valid,\n",
    "                             sigma_phi_valid,\n",
    "                             correlation_theta_phi_valid)\n",
    "    print(loss_valid.data.item())\n",
    "    \n",
    "    test_3_loss.append(loss_valid.data.item())\n",
    "    pi_valid_list.append(pi_valid.detach().cpu().numpy())\n",
    "    mu_theta_Valid_list.append(mu_theta_valid.detach().cpu().numpy())\n",
    "    mu_phi_valid_list.append(mu_phi_valid.detach().cpu().numpy())"
   ]
  },
  {
   "cell_type": "code",
   "execution_count": null,
   "metadata": {},
   "outputs": [],
   "source": [
    "-0.5303942561149597\n",
    "-4.68788480758667\n",
    "-4.8146748542785645\n",
    "-5.0512166023254395\n",
    "-5.462406158447266\n",
    "-4.24208402633667\n",
    "-4.685033321380615\n",
    "-5.128376007080078\n",
    "-4.813603401184082\n",
    "-4.869997501373291"
   ]
  },
  {
   "cell_type": "code",
   "execution_count": 22,
   "metadata": {},
   "outputs": [
    {
     "data": {
      "text/plain": [
       "([<matplotlib.axis.XTick at 0x7fa7151ae748>,\n",
       "  <matplotlib.axis.XTick at 0x7fa7151ae080>,\n",
       "  <matplotlib.axis.XTick at 0x7fa7151acdd8>,\n",
       "  <matplotlib.axis.XTick at 0x7fa7151dc860>,\n",
       "  <matplotlib.axis.XTick at 0x7fa7151dcd68>,\n",
       "  <matplotlib.axis.XTick at 0x7fa7151691d0>,\n",
       "  <matplotlib.axis.XTick at 0x7fa715169748>,\n",
       "  <matplotlib.axis.XTick at 0x7fa715169cc0>,\n",
       "  <matplotlib.axis.XTick at 0x7fa71516f278>,\n",
       "  <matplotlib.axis.XTick at 0x7fa71516f7f0>],\n",
       " <a list of 10 Text xticklabel objects>)"
      ]
     },
     "execution_count": 22,
     "metadata": {},
     "output_type": "execute_result"
    }
   ],
   "source": [
    "x = ['1', '2', '3', '4', '5', '6', '7', '8', '9', '10']\n",
    "\n",
    "x_pos = [i for i, _ in enumerate(x)]\n",
    "\n",
    "# plt.bar(x_pos, test_1_loss)\n",
    "plt.bar(x_pos, test_3_loss, color=['tab:blue',\n",
    "                                   'tab:green',\n",
    "                                   'tab:blue',\n",
    "                                   'tab:blue',\n",
    "                                   'tab:blue',\n",
    "                                   'tab:blue',\n",
    "                                   'tab:blue',\n",
    "                                   'tab:blue',\n",
    "                                   'tab:blue',\n",
    "                                   'tab:blue'], zorder = 3)\n",
    "\n",
    "plt.grid(zorder=0)\n",
    "\n",
    "plt.xlabel(\"Input Window Size\", fontsize=12)\n",
    "plt.ylabel(\"MSE Loss\", fontsize=12)\n",
    "plt.xticks(x_pos, x)\n",
    "\n",
    "\n",
    "# plt.ylim([0.025,0.039])\n",
    "# plt.show()"
   ]
  },
  {
   "cell_type": "code",
   "execution_count": null,
   "metadata": {},
   "outputs": [],
   "source": [
    "-0.5303942561149597\n",
    "-4.68788480758667\n",
    "-4.655130386352539\n",
    "-5.0512166023254395\n",
    "-5.462406158447266\n",
    "-4.24208402633667\n",
    "-4.685033321380615\n",
    "-5.128376007080078\n",
    "-4.813603401184082\n",
    "-4.869997501373291"
   ]
  },
  {
   "cell_type": "code",
   "execution_count": 18,
   "metadata": {},
   "outputs": [
    {
     "data": {
      "text/plain": [
       "(-5.75, -4.0)"
      ]
     },
     "execution_count": 18,
     "metadata": {},
     "output_type": "execute_result"
    }
   ],
   "source": [
    "x = ['2', '3', '4', '5', '6', '7', '8', '9', '10']\n",
    "\n",
    "# x_pos = [i for i, _ in enumerate(x)]\n",
    "\n",
    "\n",
    "plt.figure(figsize=(10, 3))\n",
    "plt.plot(x, test_3_loss[1:], c='tab:blue', marker='o')\n",
    "plt.scatter(x[3], test_3_loss[4], marker='s', s=250, c='tab:green')\n",
    "plt.grid(zorder=0)\n",
    "\n",
    "\n",
    "\n",
    "\n",
    "\n",
    "\n",
    "plt.xlabel(\"Number of Bivariate Normal Components\", fontsize=15)\n",
    "plt.ylabel(\"Negative Log Likelihood Loss\", fontsize=15)\n",
    "plt.ylim([-5.75, -4.0])\n",
    "# plt.xticks(x_pos, x)"
   ]
  },
  {
   "cell_type": "code",
   "execution_count": 30,
   "metadata": {},
   "outputs": [],
   "source": [
    "x = ['2', '3', '4', '5', '6', '7', '8', '9', '10']\n",
    "\n",
    "# x_pos = [i for i, _ in enumerate(x)]\n",
    "\n",
    "\n",
    "plt.figure(figsize=(6, 5))\n",
    "plt.plot(x, test_3_loss[1:], c='tab:blue', marker='o')\n",
    "plt.scatter(x[3], test_3_loss[4], marker='s', s=250, c='tab:green')\n",
    "plt.grid(zorder=0)\n",
    "\n",
    "\n",
    "\n",
    "\n",
    "\n",
    "\n",
    "plt.xlabel(\"Number of Bivariate Normal Components\", fontsize=15)\n",
    "plt.ylabel(\"Negative Log Likelihood Loss\", fontsize=15)\n",
    "plt.ylim([-5.6, -4.0])\n",
    "# plt.xticks(x_pos, x)\n",
    "\n",
    "plt.tight_layout()\n",
    "\n",
    "plt.savefig(\"V2-inference-early-stop_optimal-number-of-gaussian-components.png\", format=\"png\", dpi=300)"
   ]
  },
  {
   "cell_type": "markdown",
   "metadata": {},
   "source": [
    "# Optimal number of gaussian is 5"
   ]
  },
  {
   "cell_type": "code",
   "execution_count": 23,
   "metadata": {},
   "outputs": [
    {
     "data": {
      "text/plain": [
       "[<matplotlib.lines.Line2D at 0x7fa714fe3550>]"
      ]
     },
     "execution_count": 23,
     "metadata": {},
     "output_type": "execute_result"
    }
   ],
   "source": [
    "plt.plot(test_3_loss)"
   ]
  },
  {
   "cell_type": "code",
   "execution_count": 15,
   "metadata": {},
   "outputs": [],
   "source": [
    "# plot max selectin for each sample in valid dataset\n",
    "size = pd_thetaphi_valid_label_tensor.shape[0]\n",
    "for num_gaussians in range(1, 10):\n",
    "    plt.figure()\n",
    "    for i in range(size):\n",
    "        plt.plot(pi_valid_list[num_gaussians][i])"
   ]
  },
  {
   "cell_type": "code",
   "execution_count": 16,
   "metadata": {},
   "outputs": [],
   "source": [
    "# plot max selectin for each sample in valid dataset\n",
    "size = pd_thetaphi_valid_label_tensor.shape[0]\n",
    "for num_gaussians in range(1, 10):\n",
    "    plt.figure()\n",
    "    max_idx = np.argmax(pi_valid_list[num_gaussians], axis=1)\n",
    "    plt.plot(max_idx)"
   ]
  },
  {
   "cell_type": "code",
   "execution_count": null,
   "metadata": {},
   "outputs": [],
   "source": []
  },
  {
   "cell_type": "code",
   "execution_count": 83,
   "metadata": {},
   "outputs": [
    {
     "name": "stdout",
     "output_type": "stream",
     "text": [
      "0.08564231738035265\n"
     ]
    }
   ],
   "source": [
    "# plot 7 componets case for demostration in paper\n",
    "size = pd_thetaphi_valid_label_tensor.shape[0]\n",
    "max_idx = np.argmax(pi_valid_list[6], axis=1)\n",
    "\n",
    "# find changing point\n",
    "changing_x = []\n",
    "changing_y = []\n",
    "changing_count = 0\n",
    "for i in range(size - 1):\n",
    "    if (max_idx[i] != max_idx[i + 1]):\n",
    "        changing_x.append(i)\n",
    "        changing_y.append(max_idx[i])\n",
    "        changing_x.append(i + 1)\n",
    "        changing_y.append(max_idx[i + 1])\n",
    "        changing_count += 1\n",
    "        \n",
    "print(changing_count/size)\n",
    "        \n",
    "# axes = plt.gca()\n",
    "# axes.yaxis.grid()\n",
    "\n",
    "plt.figure(figsize=(15, 5))\n",
    "plt.plot(max_idx, '--', marker='o', markersize=5, c = 'tab:blue', zorder=2)\n",
    "plt.scatter(changing_x, changing_y, marker='x', s=80, c = 'tab:red', zorder=3)\n",
    "\n",
    "\n",
    "plt.yticks([0, 1, 2, 3, 4, 5, 6],\n",
    "           [\"1th\",\n",
    "            \"2nd\",\n",
    "            \"3th\",\n",
    "            \"4th\",\n",
    "            \"5th\",\n",
    "            \"6th\",\n",
    "            \"7th\"])\n",
    "plt.xlim([-4, 398])\n",
    "# plt.xlim([-2, 50])\n",
    "plt.xlabel(\"Index of POV\", fontsize=15)\n",
    "# plt.ylabel(\"Index of Gaussian Component with Maximum Weight\", fontsize=14)\n",
    "plt.ylabel(\"Max Weighted Gaussian Component Index\", fontsize=15)\n",
    "axes = plt.gca()\n",
    "axes.yaxis.grid()\n",
    "# # axes.grid(zorder=0)\n",
    "\n",
    "\n",
    "plt.savefig(\"V2-inference-early-stop_changing-point-on-weight.png\", format=\"png\", dpi=300)"
   ]
  },
  {
   "cell_type": "code",
   "execution_count": 112,
   "metadata": {},
   "outputs": [
    {
     "name": "stdout",
     "output_type": "stream",
     "text": [
      "0.08564231738035265\n"
     ]
    }
   ],
   "source": [
    "# plot 7 componets case for demostration in paper\n",
    "size = pd_thetaphi_valid_label_tensor.shape[0]\n",
    "max_idx = np.argmax(pi_valid_list[6], axis=1)\n",
    "\n",
    "max_idx_x = []\n",
    "for i in range(len(max_idx)):\n",
    "    max_idx_x.append(i)\n",
    "\n",
    "# find changing point\n",
    "changing_x = []\n",
    "changing_y = []\n",
    "changing_count = 0\n",
    "for i in range(size - 1):\n",
    "    if (max_idx[i] != max_idx[i + 1]):\n",
    "        changing_x.append(i)\n",
    "        changing_y.append(max_idx[i])\n",
    "        changing_x.append(i + 1)\n",
    "        changing_y.append(max_idx[i + 1])\n",
    "        changing_count += 1\n",
    "        \n",
    "print(changing_count/size)\n",
    "        \n",
    "# axes = plt.gca()\n",
    "# axes.yaxis.grid()\n",
    "\n",
    "plt.figure(figsize=(12, 4))\n",
    "plt.plot(max_idx, '--', c = 'tab:blue', zorder=2)\n",
    "plt.scatter(max_idx_x, max_idx, marker='o', s=60, c = 'tab:blue', zorder=2, label = 'POVs')\n",
    "plt.scatter(changing_x, changing_y, marker='x', s=90, c = 'tab:red', zorder=3, label = 'tPOVs')\n",
    "plt.legend(loc=4, prop={'size': 12})\n",
    "\n",
    "\n",
    "plt.yticks([0, 1, 2, 3, 4, 5, 6],\n",
    "           [\"1th\",\n",
    "            \"2nd\",\n",
    "            \"3th\",\n",
    "            \"4th\",\n",
    "            \"5th\",\n",
    "            \"6th\",\n",
    "            \"7th\"])\n",
    "# plt.xlim([-4, 398])\n",
    "plt.xlim([-2, 50])\n",
    "plt.xlabel(\"Index of POV\", fontsize=14)\n",
    "plt.ylabel(\"Index of Gaussian Component \\n with Maximum Weight\", fontsize=14)\n",
    "# plt.ylabel(\"Max Weighted Gaussian Component Index\", fontsize=15)\n",
    "axes = plt.gca()\n",
    "axes.yaxis.grid()\n",
    "# # axes.grid(zorder=0)\n",
    "plt.tight_layout()\n",
    "\n",
    "plt.savefig(\"V2-inference-early-stop_changing-point-on-weight.png\", format=\"png\", dpi=300)"
   ]
  },
  {
   "cell_type": "code",
   "execution_count": null,
   "metadata": {},
   "outputs": [],
   "source": [
    "# find changing points percentage for all cases with different number of gaussian components\n",
    "size = pd_thetaphi_valid_label_tensor.shape[0]\n",
    "changing_rate_list = []\n",
    "for num_gaussians in range(1, 10):\n",
    "    plt.figure()\n",
    "    max_idx = np.argmax(pi_valid_list[num_gaussians], axis=1)\n",
    "    plt.plot(max_idx)\n",
    "    changing_count = 0\n",
    "    for i in range(size - 1):\n",
    "        if (max_idx[i] != max_idx[i + 1]):\n",
    "            changing_x.append(i)\n",
    "            changing_y.append(max_idx[i])\n",
    "            changing_x.append(i + 1)\n",
    "            changing_y.append(max_idx[i + 1])\n",
    "            changing_count += 1\n",
    "    changing_rate = changing_count/size\n",
    "    changing_rate_list.append(changing_rate)\n",
    "    "
   ]
  },
  {
   "cell_type": "code",
   "execution_count": null,
   "metadata": {},
   "outputs": [],
   "source": [
    "# table in the paper\n",
    "changing_rate_list"
   ]
  },
  {
   "cell_type": "code",
   "execution_count": null,
   "metadata": {},
   "outputs": [],
   "source": [
    "plt.plot(changing_rate_list)"
   ]
  },
  {
   "cell_type": "code",
   "execution_count": null,
   "metadata": {},
   "outputs": [],
   "source": []
  },
  {
   "cell_type": "code",
   "execution_count": null,
   "metadata": {},
   "outputs": [],
   "source": [
    "size"
   ]
  },
  {
   "cell_type": "code",
   "execution_count": null,
   "metadata": {},
   "outputs": [],
   "source": []
  },
  {
   "cell_type": "code",
   "execution_count": null,
   "metadata": {},
   "outputs": [],
   "source": [
    "mu_theta_Valid_list[9][0].shape"
   ]
  },
  {
   "cell_type": "code",
   "execution_count": null,
   "metadata": {},
   "outputs": [],
   "source": [
    "plt.plot(mu_theta_Valid_list[0][0])\n",
    "plt.plot(mu_theta_Valid_list[0][1])"
   ]
  },
  {
   "cell_type": "code",
   "execution_count": null,
   "metadata": {},
   "outputs": [],
   "source": [
    "mu_theta_Valid_list[1][0]"
   ]
  },
  {
   "cell_type": "code",
   "execution_count": null,
   "metadata": {},
   "outputs": [],
   "source": [
    "mu_theta_Valid_list[0][1]"
   ]
  },
  {
   "cell_type": "code",
   "execution_count": null,
   "metadata": {},
   "outputs": [],
   "source": [
    "plt.figure()\n",
    "for i in range(10):\n",
    "    plt.plot(pi_valid_list[3][i])"
   ]
  },
  {
   "cell_type": "code",
   "execution_count": null,
   "metadata": {},
   "outputs": [],
   "source": [
    "pi_3 = pi_valid_list[3]\n",
    "mu_theta_3 = mu_theta_Valid_list[3]\n",
    "mu_phi_3 = mu_phi_valid_list[3]\n",
    "max_idx = np.argmax(pi_3, axis=1)"
   ]
  },
  {
   "cell_type": "code",
   "execution_count": null,
   "metadata": {},
   "outputs": [],
   "source": [
    "pi_3.shape"
   ]
  },
  {
   "cell_type": "code",
   "execution_count": null,
   "metadata": {},
   "outputs": [],
   "source": [
    "mu_theta_3.shape"
   ]
  },
  {
   "cell_type": "code",
   "execution_count": null,
   "metadata": {},
   "outputs": [],
   "source": [
    "mu_phi_3.shape"
   ]
  },
  {
   "cell_type": "code",
   "execution_count": null,
   "metadata": {},
   "outputs": [],
   "source": [
    "selected_mu_theta_gp_0 = []\n",
    "selected_index_gp_0 = []\n",
    "selected_mu_theta_gp_1 = []\n",
    "selected_index_gp_1 = []\n",
    "selected_mu_theta_gp_2 = []\n",
    "selected_index_gp_2 = []\n",
    "selected_mu_theta_gp_3 = []\n",
    "selected_index_gp_3 = []\n",
    "\n",
    "selected_mu_theta = []\n",
    "\n",
    "for i in range(size):\n",
    "    if (max_idx[i] == 0):\n",
    "        selected_mu_theta_gp_0.append(mu_theta_3[i, 0])\n",
    "        selected_index_gp_0.append(i)\n",
    "        selected_mu_theta.append(mu_theta_3[i, 0])\n",
    "    if (max_idx[i] == 1):\n",
    "        selected_mu_theta_gp_1.append(mu_theta_3[i, 1])\n",
    "        selected_index_gp_1.append(i)\n",
    "        selected_mu_theta.append(mu_theta_3[i, 1])\n",
    "    if (max_idx[i] == 2):\n",
    "        selected_mu_theta_gp_2.append(mu_theta_3[i, 2])\n",
    "        selected_index_gp_2.append(i)\n",
    "        selected_mu_theta.append(mu_theta_3[i, 2])\n",
    "    if (max_idx[i] == 3):\n",
    "        selected_mu_theta_gp_3.append(mu_theta_3[i, 3])\n",
    "        selected_index_gp_3.append(i)\n",
    "        selected_mu_theta.append(mu_theta_3[i, 3])\n",
    "    \n",
    "    "
   ]
  },
  {
   "cell_type": "code",
   "execution_count": null,
   "metadata": {},
   "outputs": [],
   "source": [
    "plt.figure()\n",
    "plt.plot(selected_index_gp_0, selected_mu_theta_gp_0)\n",
    "plt.plot(selected_index_gp_1, selected_mu_theta_gp_1)\n",
    "plt.plot(selected_index_gp_2, selected_mu_theta_gp_2)\n",
    "plt.plot(selected_index_gp_3, selected_mu_theta_gp_3)"
   ]
  },
  {
   "cell_type": "code",
   "execution_count": null,
   "metadata": {},
   "outputs": [],
   "source": [
    "plt.plot(selected_index_gp_0)"
   ]
  },
  {
   "cell_type": "code",
   "execution_count": null,
   "metadata": {},
   "outputs": [],
   "source": [
    "plt.figure()\n",
    "plt.plot(mu_theta_3[:,0], label='0 component', linestyle='--')\n",
    "plt.plot(mu_theta_3[:,1], label='1 component', linestyle='--')\n",
    "plt.plot(mu_theta_3[:,2], label='2 component', linestyle='--')\n",
    "plt.plot(mu_theta_3[:,3], label='3 component', linestyle='--')\n",
    "plt.plot(selected_mu_theta, label='selected')\n",
    "plt.legend()"
   ]
  },
  {
   "cell_type": "code",
   "execution_count": null,
   "metadata": {},
   "outputs": [],
   "source": [
    "plt.plot(max_idx)"
   ]
  },
  {
   "cell_type": "code",
   "execution_count": null,
   "metadata": {},
   "outputs": [],
   "source": []
  }
 ],
 "metadata": {
  "kernelspec": {
   "display_name": "Python 3 (ipykernel)",
   "language": "python",
   "name": "python3"
  },
  "language_info": {
   "codemirror_mode": {
    "name": "ipython",
    "version": 3
   },
   "file_extension": ".py",
   "mimetype": "text/x-python",
   "name": "python",
   "nbconvert_exporter": "python",
   "pygments_lexer": "ipython3",
   "version": "3.7.3"
  }
 },
 "nbformat": 4,
 "nbformat_minor": 4
}
