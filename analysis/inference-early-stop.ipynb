{
 "cells": [
  {
   "cell_type": "code",
   "execution_count": 1,
   "metadata": {},
   "outputs": [],
   "source": [
    "# check the model of using differnet window size, compare their results on valid dataset\n",
    "#    test dataset without any preprocessing, no scaling and no normalization\n",
    "# decide which window size is the optimal"
   ]
  },
  {
   "cell_type": "code",
   "execution_count": 2,
   "metadata": {},
   "outputs": [],
   "source": [
    "import torch\n",
    "import torch.nn as nn\n",
    "import torch.nn.functional as F\n",
    "\n",
    "import numpy as np\n",
    "import pandas as pd\n",
    "import math\n",
    "import matplotlib.pyplot as plt\n",
    "from matplotlib import interactive\n",
    "interactive(True)\n",
    "%matplotlib qt\n",
    "\n",
    "\n",
    "import torchvision.datasets as dsets\n",
    "import torchvision.transforms as transforms\n",
    "# from torch.utils.data import Dataset, DataLoader\n",
    "from torch.utils.data import DataLoader\n",
    "from torch.autograd import Variable\n",
    "\n",
    "import my_model\n",
    "from utilities import MyTrainDataSet, MyTestDataSet, load_data_2, load_test_data, min_max_scaling, normalize_one, construct_train_valid_tensor, construct_test_tensor, show_statistic"
   ]
  },
  {
   "cell_type": "markdown",
   "metadata": {},
   "source": [
    "Plot result"
   ]
  },
  {
   "cell_type": "code",
   "execution_count": 3,
   "metadata": {},
   "outputs": [],
   "source": [
    "def getDistanceThetaPhi(xyz): # N x 3 -> N x 2, xyz_tensor must be two dimension\n",
    "    size = xyz.shape[0]\n",
    "    dtp = np.zeros([size, 3])\n",
    "    for i in range(size):\n",
    "        x = xyz[i, 0]\n",
    "        y = xyz[i, 1]\n",
    "        z = xyz[i, 2]\n",
    "        # print(z)\n",
    "        d = math.sqrt(x*x + y*y + z*z)\n",
    "        theta = math.atan(math.sqrt(x*x + y*y)/z)/math.pi*180\n",
    "        phi = math.atan(y/x)/math.pi*180\n",
    "        \n",
    "        if (d >= 2.0):\n",
    "            d= 2.0;\n",
    "        elif (d <= 1.0):\n",
    "            d= 1.0;\n",
    "        \n",
    "        if (theta < 0):\n",
    "            theta = 180 + theta;\n",
    "        \n",
    "        if (phi > 0):\n",
    "            if (x > 0):\n",
    "                phi = phi;\n",
    "            else:\n",
    "                phi = 180 + phi;\n",
    "        else:\n",
    "            if (x < 0):\n",
    "                phi = 180 + phi;\n",
    "            else:\n",
    "                phi = 360 + phi;\n",
    "        \n",
    "        \n",
    "        dtp[i, 0] = d\n",
    "        dtp[i, 1] = theta\n",
    "        dtp[i, 2] = phi\n",
    "    \n",
    "    return dtp   "
   ]
  },
  {
   "cell_type": "code",
   "execution_count": 4,
   "metadata": {},
   "outputs": [
    {
     "name": "stdout",
     "output_type": "stream",
     "text": [
      "gt_thetaphi_valid_label_tensor shape: torch.Size([397, 2])\n",
      "pd_thetaphi_valid_label_tensor shape: torch.Size([397, 2])\n"
     ]
    }
   ],
   "source": [
    "input_valid_train = np.load(\"input_valid_tensor.npy\")\n",
    "gt_valid_label = np.load(\"gt_valid_label_tensor.npy\")\n",
    "pd_valid_label = np.load(\"pd_valid_label_tensor.npy\")\n",
    "\n",
    "# construct 2d theta phi valid tensor\n",
    "gt_dthetaphi_valid_label = getDistanceThetaPhi(gt_valid_label)\n",
    "pd_dthetaphi_valid_label = getDistanceThetaPhi(pd_valid_label)\n",
    "gt_thetaphi_valid_label_tensor = torch.Tensor(gt_dthetaphi_valid_label[:,1:])\n",
    "pd_thetaphi_valid_label_tensor = torch.Tensor(pd_dthetaphi_valid_label[:,1:])\n",
    "print(\"gt_thetaphi_valid_label_tensor shape:\", gt_thetaphi_valid_label_tensor.shape)\n",
    "print(\"pd_thetaphi_valid_label_tensor shape:\", pd_thetaphi_valid_label_tensor.shape)\n",
    "\n",
    "gt_thetaphi_valid_label_tensor = torch.matmul(gt_thetaphi_valid_label_tensor, torch.Tensor([[1/180, 0],[0, 1/360]]))\n",
    "pd_thetaphi_valid_label_tensor = torch.matmul(pd_thetaphi_valid_label_tensor, torch.Tensor([[1/180, 0],[0, 1/360]]))"
   ]
  },
  {
   "cell_type": "code",
   "execution_count": 5,
   "metadata": {},
   "outputs": [],
   "source": [
    "class MDN(nn.Module):\n",
    "    def __init__(self, n_input, n_hidden, n_gaussians):\n",
    "        super(MDN, self).__init__()\n",
    "        self.l_h = nn.Sequential(\n",
    "            nn.Linear(n_input, n_hidden),\n",
    "            nn.Tanh()\n",
    "        )\n",
    "        self.l_pi = nn.Linear(n_hidden, n_gaussians)\n",
    "        \n",
    "        self.l_mu_theta = nn.Linear(n_hidden, n_gaussians)\n",
    "        self.l_sigma_theta = nn.Linear(n_hidden, n_gaussians)\n",
    "        \n",
    "        self.l_mu_phi = nn.Linear(n_hidden, n_gaussians)\n",
    "        self.l_sigma_phi = nn.Linear(n_hidden, n_gaussians)\n",
    "        \n",
    "        \n",
    "        self.l_correlation_theta_phi = nn.Sequential(\n",
    "            nn.Linear(n_hidden, n_gaussians),\n",
    "            nn.Tanh()\n",
    "        )\n",
    "        \n",
    "    def forward(self, x):\n",
    "        h = self.l_h(x)\n",
    "        # print(\"h\", h.shape)\n",
    "        # print(\"h[0]\", h[0, :])\n",
    "        \n",
    "        pi = F.softmax(self.l_pi(h), -1)\n",
    "        \n",
    "        # print(\"pi\", pi.shape)\n",
    "        # print(\"pi[0]\", pi[0, :])\n",
    "        mu_theta = self.l_mu_theta(h)\n",
    "        # print(\"mu_theta\", pi.shape)\n",
    "        mu_phi = self.l_mu_phi(h)\n",
    "        # print(\"mu_phi\", pi.shape)\n",
    "        \n",
    "        # use exp to ensure positive range\n",
    "        sigma_theta = torch.exp(self.l_sigma_theta(h))\n",
    "        # print(\"sigma_theta\", sigma_theta.shape)\n",
    "        sigma_phi = torch.exp(self.l_sigma_phi(h))\n",
    "        # print(\"sigma_phi\", sigma_phi.shape)\n",
    "\n",
    "        # use tanh to ensoure range of (-1, 1)\n",
    "        correlation_theta_phi = self.l_correlation_theta_phi(h)\n",
    "        # print(\"correlation_y_z\", pi.shape)\n",
    "        # print(\"correlation_y_z[0]\", correlation_y_z[0, :])\n",
    "        \n",
    "        return pi, mu_theta, mu_phi, sigma_theta, sigma_phi, correlation_theta_phi\n"
   ]
  },
  {
   "cell_type": "code",
   "execution_count": 6,
   "metadata": {},
   "outputs": [],
   "source": [
    "def mdn_loss_fn(y, pi, mu_theta, mu_phi, sigma_theta, sigma_phi, correlation_theta_phi):\n",
    "    size = y.shape[0]\n",
    "    n_gaussians = pi.shape[1]\n",
    "    '''\n",
    "    print(\"sample size: \", size)\n",
    "    print(\"num of gaus: \", n_gaussians)\n",
    "    print(\"mu_theta size: \", mu_theta.shape)\n",
    "    print(\"mu_phi size: \", mu_phi.shape)\n",
    "    print(\"sigma_theta size: \", sigma_theta.shape)\n",
    "    print(\"sigma_phi size: \", sigma_phi.shape)\n",
    "    print(\"correlation_theta_phi size: \", correlation_theta_phi.shape)\n",
    "    '''\n",
    "    # build mean matrix\n",
    "    mean = torch.stack((mu_theta, mu_phi), dim=2)\n",
    "    # build covariance matrix with standard bivariate normal distribution\n",
    "    cov = torch.zeros([size, n_gaussians, 2, 2])\n",
    "    cov[:, :, 0, 0] = sigma_theta**2\n",
    "    cov[:, :, 1, 1] = sigma_phi**2\n",
    "    cov[:, :, 1, 0] = correlation_theta_phi*sigma_theta*sigma_phi\n",
    "    cov[:, :, 0, 1] = correlation_theta_phi*sigma_theta*sigma_phi\n",
    "\n",
    "    \n",
    "    '''\n",
    "    print(\"sigma_theta**2 size: \", (sigma_theta**2).shape)\n",
    "    print(\"sigma_phi**2 size: \", (sigma_phi**2).shape)\n",
    "    print(\"correlation_theta_phi*sigma_theta*sigma_phi size: \", (correlation_theta_phi*sigma_theta*sigma_phi).shape)\n",
    "    print(\"mean size:\", mean.shape)\n",
    "    print(\"cov size:\", cov.shape)\n",
    "    print(\"correlation_theta_phi:\", correlation_theta_phi.min())\n",
    "    '''\n",
    "    # mean: N x n_gaussian x 2\n",
    "    # cov: N x 5 x 2 x 2\n",
    "    m = torch.distributions.multivariate_normal.MultivariateNormal(loc=mean, covariance_matrix=cov)\n",
    "    # expand y to N x n_gaussian x 2\n",
    "    y = y.unsqueeze(1).repeat(1, n_gaussians, 1)\n",
    "    \n",
    "    # print(\"y size\", y.shape) # 14985 x 5 x 2\n",
    "    \n",
    "    # y: [x, y, z]; row: x, y, z; column: N, number of samples\n",
    "    # y: N x 3\n",
    "    # loss: N x 1\n",
    "    # print(y_normal.is_cuda)\n",
    "    likelihood = torch.exp(m.log_prob(y))\n",
    "    \n",
    "    # print(\"likelihood shape: \", likelihood.shape) # 14985 x 5\n",
    "    # print(\"pi shape: \", pi.shape) # 14985 x 5\n",
    "    loss = torch.sum(likelihood * pi, dim=1) # 14985 X 1\n",
    "    # print(likelihood.max())\n",
    "    '''\n",
    "    for i in range(loss.shape[0]):\n",
    "        if loss[i] > 1.5:\n",
    "            print(\"loss: \", loss[i])\n",
    "            print(\"likelihood: \", likelihood[i])\n",
    "            print(\"mu array  : \", pi[i])\n",
    "            # print(\"likelihood shape: \", likelihood.shape) # 14985 x 5\n",
    "    '''\n",
    "    loss = -torch.log(loss)\n",
    "    return torch.mean(loss)"
   ]
  },
  {
   "cell_type": "code",
   "execution_count": 53,
   "metadata": {},
   "outputs": [
    {
     "name": "stdout",
     "output_type": "stream",
     "text": [
      "-4.260011196136475\n",
      "-4.889506816864014\n",
      "-4.778032302856445\n",
      "-4.788808345794678\n"
     ]
    }
   ],
   "source": [
    "test_3_loss = []\n",
    "for i in range(2, 6):\n",
    "    num_gaussians = i\n",
    "    PATH = \"model/with_early_stop_after_400_without_normalization/model_ng_\" + str(i) + \".pt\"\n",
    "\n",
    "    load_model_mdn = MDN(2, n_hidden=20, n_gaussians=num_gaussians)\n",
    "    load_model_mdn.load_state_dict(torch.load(PATH))\n",
    "    load_model_mdn.eval()\n",
    "    # mmodel = torch.load(PATH)\n",
    "    \n",
    "    # Calculating validation data loss\n",
    "    pi_valid, mu_theta_valid, mu_phi_valid, sigma_theta_valid, sigma_phi_valid, correlation_theta_phi_valid = load_model_mdn(pd_thetaphi_valid_label_tensor)\n",
    "    loss_valid = mdn_loss_fn(gt_thetaphi_valid_label_tensor,\n",
    "                             pi_valid, mu_theta_valid,\n",
    "                             mu_phi_valid,\n",
    "                             sigma_theta_valid,\n",
    "                             sigma_phi_valid,\n",
    "                             correlation_theta_phi_valid)\n",
    "    print(loss_valid.data.item())\n",
    "    \n",
    "    test_3_loss.append(loss_valid.data.item())"
   ]
  },
  {
   "cell_type": "code",
   "execution_count": 16,
   "metadata": {},
   "outputs": [
    {
     "data": {
      "text/plain": [
       "([<matplotlib.axis.XTick at 0x7f083f0710b8>,\n",
       "  <matplotlib.axis.XTick at 0x7f083f04e9b0>,\n",
       "  <matplotlib.axis.XTick at 0x7f083f04e6d8>,\n",
       "  <matplotlib.axis.XTick at 0x7f083eda5b70>],\n",
       " <a list of 4 Text xticklabel objects>)"
      ]
     },
     "execution_count": 16,
     "metadata": {},
     "output_type": "execute_result"
    }
   ],
   "source": [
    "x = ['2', '3', '4', '5']\n",
    "\n",
    "x_pos = [i for i, _ in enumerate(x)]\n",
    "\n",
    "# plt.bar(x_pos, test_1_loss)\n",
    "plt.bar(x_pos, test_3_loss, color=['tab:blue',\n",
    "                                   'tab:blue',\n",
    "                                   'tab:green',\n",
    "                                   'tab:blue'], zorder = 3)\n",
    "\n",
    "plt.grid(zorder=0)\n",
    "\n",
    "plt.xlabel(\"Input Window Size\", fontsize=12)\n",
    "plt.ylabel(\"MSE Loss\", fontsize=12)\n",
    "plt.xticks(x_pos, x)\n",
    "\n",
    "\n",
    "# plt.ylim([0.025,0.039])\n",
    "# plt.show()"
   ]
  },
  {
   "cell_type": "code",
   "execution_count": 10,
   "metadata": {},
   "outputs": [
    {
     "data": {
      "text/plain": [
       "[-4.260011196136475,\n",
       " -4.889506816864014,\n",
       " -4.778032302856445,\n",
       " -4.788808345794678]"
      ]
     },
     "execution_count": 10,
     "metadata": {},
     "output_type": "execute_result"
    }
   ],
   "source": [
    "test_3_loss"
   ]
  },
  {
   "cell_type": "code",
   "execution_count": 60,
   "metadata": {},
   "outputs": [
    {
     "data": {
      "text/plain": [
       "Text(31.097222222222214, 0.5, 'Negative Log Likelihood')"
      ]
     },
     "execution_count": 60,
     "metadata": {},
     "output_type": "execute_result"
    }
   ],
   "source": [
    "x = ['2', '3', '4', '5']\n",
    "\n",
    "# x_pos = [i for i, _ in enumerate(x)]\n",
    "\n",
    "plt.plot(x, test_3_loss, c='tab:blue')\n",
    "plt.scatter(x[1], test_3_loss[1], marker='s', s=250, c='tab:green')\n",
    "plt.grid(zorder=0)\n",
    "\n",
    "\n",
    "\n",
    "\n",
    "\n",
    "\n",
    "plt.xlabel(\"Number of Bivariate Normal Distribution Used for Gaussian Mixture\", fontsize=12)\n",
    "plt.ylabel(\"Negative Log Likelihood\", fontsize=12)\n",
    "# plt.xticks(x_pos, x)"
   ]
  },
  {
   "cell_type": "code",
   "execution_count": null,
   "metadata": {},
   "outputs": [],
   "source": []
  }
 ],
 "metadata": {
  "kernelspec": {
   "display_name": "Python 3",
   "language": "python",
   "name": "python3"
  },
  "language_info": {
   "codemirror_mode": {
    "name": "ipython",
    "version": 3
   },
   "file_extension": ".py",
   "mimetype": "text/x-python",
   "name": "python",
   "nbconvert_exporter": "python",
   "pygments_lexer": "ipython3",
   "version": "3.7.3"
  }
 },
 "nbformat": 4,
 "nbformat_minor": 4
}
