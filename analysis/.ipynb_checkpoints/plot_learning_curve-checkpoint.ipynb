{
 "cells": [
  {
   "cell_type": "markdown",
   "metadata": {},
   "source": [
    "# visuialy analysis training results by see the learning curve"
   ]
  },
  {
   "cell_type": "code",
   "execution_count": 1,
   "metadata": {},
   "outputs": [],
   "source": [
    "import numpy as np\n",
    "import matplotlib.pyplot as plt\n",
    "from matplotlib import interactive\n",
    "interactive(True)\n",
    "%matplotlib qt"
   ]
  },
  {
   "cell_type": "code",
   "execution_count": null,
   "metadata": {},
   "outputs": [],
   "source": []
  },
  {
   "cell_type": "code",
   "execution_count": null,
   "metadata": {},
   "outputs": [],
   "source": [
    "# training learning curve\n",
    "train_loss_ng2 = np.load('4000/without_normalization_with_earlystop/ng_2/train_loss.npy')\n",
    "train_loss_ng3 = np.load('4000/without_normalization_with_earlystop/ng_3/train_loss.npy')\n",
    "train_loss_ng4 = np.load('4000/without_normalization_with_earlystop/ng_4/train_loss.npy')\n",
    "train_loss_ng5 = np.load('4000/without_normalization_with_earlystop/ng_5/train_loss.npy')\n",
    "# train_loss_w5 = np.load('1600/window_5/train_loss.npy', np.asarray(train_loss))\n",
    "\n",
    "file = open('model/with_early_stop_after_400_without_normalization/model_ng_3.txt', 'r')\n",
    "end_epoch_3 = int(file.readlines()[0].split(' ')[-1])\n",
    "file.close()\n",
    "\n",
    "starting_epoch = 0\n",
    "end_epoch = 1600\n",
    "# train_loss_curve_w1, = plt.plot(list(range(starting_epoch, end_epoch)), train_loss_w1[starting_epoch:end_epoch])\n",
    "train_loss_curve_ng2, = plt.plot(train_loss_ng2[starting_epoch:])\n",
    "train_loss_curve_ng3, = plt.plot(train_loss_ng3[starting_epoch:])\n",
    "train_loss_curve_ng4, = plt.plot(train_loss_ng4[starting_epoch:])\n",
    "train_loss_curve_ng5, = plt.plot(train_loss_ng5[starting_epoch:])\n",
    "\n",
    "\n",
    "plt.legend([# train_loss_curve_w1,\n",
    "            train_loss_curve_ng2,\n",
    "            train_loss_curve_ng3,\n",
    "            train_loss_curve_ng4,\n",
    "            train_loss_curve_ng5], [# 'Train Loss w 1',\n",
    "                                    'Train Loss w 2',\n",
    "                                    'Train Loss w 3',\n",
    "                                    'Train Loss w 4',\n",
    "                                    'Train Loss w 5'])\n",
    "plt.grid()\n",
    "plt.xlabel(\"Epoch\")\n",
    "plt.ylabel(\"MSE Loss\")"
   ]
  },
  {
   "cell_type": "code",
   "execution_count": null,
   "metadata": {},
   "outputs": [],
   "source": []
  },
  {
   "cell_type": "code",
   "execution_count": null,
   "metadata": {},
   "outputs": [],
   "source": [
    "# test 1 dataset learning curve, test 1 will be used as validation data set\n",
    "test_loss_ng2 = np.load('4000/without_normalization_with_earlystop/ng_2/valid_loss.npy')\n",
    "test_loss_ng3 = np.load('4000/without_normalization_with_earlystop/ng_3/valid_loss.npy')\n",
    "test_loss_ng4 = np.load('4000/without_normalization_with_earlystop/ng_4/valid_loss.npy')\n",
    "test_loss_ng5 = np.load('4000/without_normalization_with_earlystop/ng_5/valid_loss.npy')\n",
    "\n",
    "file = open('model/with_early_stop_after_400_without_normalization/model_ng_2.txt', 'r')\n",
    "end_epoch_2 = int(file.readlines()[0].split(' ')[-1])\n",
    "file.close()\n",
    "file = open('model/with_early_stop_after_400_without_normalization/model_ng_3.txt', 'r')\n",
    "end_epoch_3 = int(file.readlines()[0].split(' ')[-1])\n",
    "file.close()\n",
    "file = open('model/with_early_stop_after_400_without_normalization/model_ng_4.txt', 'r')\n",
    "end_epoch_4 = int(file.readlines()[0].split(' ')[-1])\n",
    "file.close()\n",
    "file = open('model/with_early_stop_after_400_without_normalization/model_ng_5.txt', 'r')\n",
    "end_epoch_5 = int(file.readlines()[0].split(' ')[-1])\n",
    "file.close()\n",
    "\n",
    "starting_epoch = 0\n",
    "# end_epoch = 1600\n",
    "plt.figure(figsize=(12,8))\n",
    "\n",
    "\n",
    "test_loss_curve_ng2_all, = plt.plot(list(range(starting_epoch, len(test_loss_ng2))), test_loss_ng2[starting_epoch:])\n",
    "test_loss_curve_ng3_all, = plt.plot(list(range(starting_epoch, len(test_loss_ng3))), test_loss_ng3[starting_epoch:])\n",
    "test_loss_curve_ng4_all, = plt.plot(list(range(starting_epoch, len(test_loss_ng4))), test_loss_ng4[starting_epoch:])\n",
    "test_loss_curve_ng5_all, = plt.plot(list(range(starting_epoch, len(test_loss_ng5))), test_loss_ng5[starting_epoch:])\n",
    "\n",
    "# test_loss_curve_w1, = plt.plot(list(range(starting_epoch, end_epoch_1 + 1)), test_loss_w1[starting_epoch:end_epoch_1 + 1])\n",
    "# test_loss_curve_w2, = plt.plot(list(range(starting_epoch, end_epoch_2 + 1)), test_loss_w2[starting_epoch:end_epoch_2 + 1])\n",
    "# test_loss_curve_w3, = plt.plot(list(range(starting_epoch, end_epoch_3 + 1)), test_loss_w3[starting_epoch:end_epoch_3 + 1])\n",
    "# test_loss_curve_w4, = plt.plot(list(range(starting_epoch, end_epoch_4 + 1)), test_loss_w4[starting_epoch:end_epoch_4 + 1])\n",
    "# test_loss_curve_w5, = plt.plot(list(range(starting_epoch, end_epoch_5 + 1)), test_loss_w5[starting_epoch:end_epoch_5 + 1])\n",
    "# test_loss_curve_w6, = plt.plot(list(range(starting_epoch, end_epoch_6 + 1)), test_loss_w6[starting_epoch:end_epoch_6 + 1])\n",
    "# test_loss_curve_w7, = plt.plot(list(range(starting_epoch, end_epoch_7 + 1)), test_loss_w7[starting_epoch:end_epoch_7 + 1])\n",
    "# test_loss_curve_w8, = plt.plot(list(range(starting_epoch, end_epoch_8 + 1)), test_loss_w8[starting_epoch:end_epoch_8 + 1])\n",
    "# test_loss_curve_w9, = plt.plot(list(range(starting_epoch, end_epoch_9 + 1)), test_loss_w9[starting_epoch:end_epoch_9 + 1])\n",
    "# test_loss_curve_w10, = plt.plot(list(range(starting_epoch, end_epoch_10 + 1)), test_loss_w10[starting_epoch:end_epoch_10 + 1])\n",
    "\n",
    "\n",
    "\n",
    "\n",
    "plt.legend([# train_loss_curve_w1,\n",
    "            test_loss_curve_ng2_all,\n",
    "            test_loss_curve_ng3_all,\n",
    "            test_loss_curve_ng4_all,\n",
    "            test_loss_curve_ng5_all], [# 'Train Loss w 1',\n",
    "                                    'Train Loss w 2',\n",
    "                                    'Train Loss w 3',\n",
    "                                    'Train Loss w 4',\n",
    "                                    'Train Loss w 5'])\n",
    "    \n",
    "plt.grid()\n",
    "plt.xlabel(\"Epoch\", fontsize=18)\n",
    "plt.ylabel(\"MSE Loss\", fontsize=18)"
   ]
  },
  {
   "cell_type": "code",
   "execution_count": 5,
   "metadata": {},
   "outputs": [
    {
     "data": {
      "text/plain": [
       "Text(0, 0.5, 'MSE Loss')"
      ]
     },
     "execution_count": 5,
     "metadata": {},
     "output_type": "execute_result"
    }
   ],
   "source": [
    "# test 1 dataset learning curve, test 1 will be used as validation data set\n",
    "test_loss_ng2 = np.load('4000/without_normalization_with_earlystop/ng_2/valid_loss.npy')\n",
    "test_loss_ng3 = np.load('4000/without_normalization_with_earlystop/ng_3/valid_loss.npy')\n",
    "test_loss_ng4 = np.load('4000/without_normalization_with_earlystop/ng_4/valid_loss.npy')\n",
    "test_loss_ng5 = np.load('4000/without_normalization_with_earlystop/ng_5/valid_loss.npy')\n",
    "\n",
    "file = open('model/with_early_stop_after_400_without_normalization/model_ng_2.txt', 'r')\n",
    "end_epoch_2 = int(file.readlines()[0].split(' ')[-1])\n",
    "file.close()\n",
    "file = open('model/with_early_stop_after_400_without_normalization/model_ng_3.txt', 'r')\n",
    "end_epoch_3 = int(file.readlines()[0].split(' ')[-1])\n",
    "file.close()\n",
    "file = open('model/with_early_stop_after_400_without_normalization/model_ng_4.txt', 'r')\n",
    "end_epoch_4 = int(file.readlines()[0].split(' ')[-1])\n",
    "file.close()\n",
    "file = open('model/with_early_stop_after_400_without_normalization/model_ng_5.txt', 'r')\n",
    "end_epoch_5 = int(file.readlines()[0].split(' ')[-1])\n",
    "file.close()\n",
    "\n",
    "starting_epoch = 0\n",
    "# end_epoch = 1600\n",
    "plt.figure(figsize=(12,8))\n",
    "\n",
    "\n",
    "test_loss_curve_ng2_all, = plt.plot(list(range(starting_epoch, len(test_loss_ng2))), test_loss_ng2[starting_epoch:])\n",
    "# test_loss_curve_ng3_all, = plt.plot(list(range(starting_epoch, len(test_loss_ng3))), test_loss_ng3[starting_epoch:])\n",
    "# test_loss_curve_ng4_all, = plt.plot(list(range(starting_epoch, len(test_loss_ng4))), test_loss_ng4[starting_epoch:])\n",
    "# test_loss_curve_ng5_all, = plt.plot(list(range(starting_epoch, len(test_loss_ng5))), test_loss_ng5[starting_epoch:])\n",
    "\n",
    "\n",
    "test_loss_curve_ng2, = plt.plot(list(range(starting_epoch, end_epoch_2 + 1)), test_loss_ng2[starting_epoch:end_epoch_2 + 1])\n",
    "# test_loss_curve_ng3, = plt.plot(list(range(starting_epoch, end_epoch_3 + 1)), test_loss_ng3[starting_epoch:end_epoch_3 + 1])\n",
    "# test_loss_curve_ng4, = plt.plot(list(range(starting_epoch, end_epoch_4 + 1)), test_loss_ng4[starting_epoch:end_epoch_4 + 1])\n",
    "# test_loss_curve_ng5, = plt.plot(list(range(starting_epoch, end_epoch_5 + 1)), test_loss_ng5[starting_epoch:end_epoch_5 + 1])\n",
    "\n",
    "\n",
    "\n",
    "\n",
    "\n",
    "leg = plt.legend([test_loss_curve_ng2,\n",
    "            test_loss_curve_ng2_all], ['ng 2',\n",
    "                                    'ng 2 all'], prop={'size': 16}, ncol=2)\n",
    "\n",
    "for legobj in leg.legendHandles:\n",
    "    legobj.set_linewidth(4.0)\n",
    "    \n",
    "plt.grid()\n",
    "plt.xlabel(\"Epoch\", fontsize=18)\n",
    "plt.ylabel(\"MSE Loss\", fontsize=18)"
   ]
  },
  {
   "cell_type": "code",
   "execution_count": null,
   "metadata": {},
   "outputs": [],
   "source": []
  }
 ],
 "metadata": {
  "kernelspec": {
   "display_name": "Python 3",
   "language": "python",
   "name": "python3"
  },
  "language_info": {
   "codemirror_mode": {
    "name": "ipython",
    "version": 3
   },
   "file_extension": ".py",
   "mimetype": "text/x-python",
   "name": "python",
   "nbconvert_exporter": "python",
   "pygments_lexer": "ipython3",
   "version": "3.7.3"
  }
 },
 "nbformat": 4,
 "nbformat_minor": 4
}
